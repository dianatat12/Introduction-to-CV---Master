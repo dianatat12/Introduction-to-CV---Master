{
 "nbformat": 4,
 "nbformat_minor": 0,
 "metadata": {
  "colab": {
   "provenance": []
  },
  "kernelspec": {
   "name": "python3",
   "display_name": "Python 3"
  },
  "language_info": {
   "name": "python"
  }
 },
 "cells": [
  {
   "cell_type": "code",
   "execution_count": 3,
   "outputs": [],
   "source": [
    "import cv2\n",
    "import utils\n",
    "import pickle\n",
    "import ml_metrics"
   ],
   "metadata": {
    "collapsed": false
   }
  },
  {
   "cell_type": "code",
   "execution_count": 4,
   "outputs": [],
   "source": [
    "# Import queries from dataset 1\n",
    "\n",
    "query_path = 'qsd1_w1'\n",
    "queries_1 = utils.import_images(query_path)"
   ],
   "metadata": {
    "collapsed": false
   }
  },
  {
   "cell_type": "code",
   "execution_count": 46,
   "outputs": [],
   "source": [
    "# Import queries from dataset 2\n",
    "\n",
    "query_path = 'qsd2_w1'\n",
    "queries_2 = utils.import_images(query_path)"
   ],
   "metadata": {
    "collapsed": false
   }
  },
  {
   "cell_type": "code",
   "execution_count": 6,
   "outputs": [],
   "source": [
    "# Import BBDD\n",
    "\n",
    "bbdd_path = 'BBDD'\n",
    "bbdd = utils.import_images(bbdd_path)"
   ],
   "metadata": {
    "collapsed": false
   }
  },
  {
   "cell_type": "code",
   "execution_count": 32,
   "outputs": [],
   "source": [
    "# Import GT values for both datasets\n",
    "\n",
    "gt = pickle.load(open('./qsd1_w1/gt_corresps.pkl', 'rb', buffering=0), encoding='bytes')\n",
    "gt_2 = pickle.load(open('./qsd2_w1/gt_corresps.pkl', 'rb', buffering=0), encoding='bytes')"
   ],
   "metadata": {
    "collapsed": false
   }
  },
  {
   "cell_type": "markdown",
   "source": [
    "## Calculate based on HSV - Method 2"
   ],
   "metadata": {
    "collapsed": false
   }
  },
  {
   "cell_type": "code",
   "execution_count": 8,
   "outputs": [],
   "source": [
    "# Convert images to HSV\n",
    "hsv_queries = utils.convert_color_space(queries_1, cv2.COLOR_BGR2HSV)\n",
    "hsv_queries = utils.resize_images(hsv_queries, (1024,1024))\n",
    "hsv_queries = sorted(hsv_queries.items())\n",
    "hsv_queries = dict(hsv_queries)\n",
    "\n",
    "hsv_queries_2 = utils.convert_color_space(queries_2, cv2.COLOR_BGR2HSV)\n",
    "hsv_queries_2 = utils.resize_images(hsv_queries_2, (1024,1024))\n",
    "hsv_queries_2 = sorted(hsv_queries_2.items())\n",
    "hsv_queries_2 = dict(hsv_queries_2)\n",
    "\n",
    "hsv_bbdd = utils.convert_color_space(bbdd, cv2.COLOR_BGR2HSV)\n",
    "hsv_bbdd = utils.resize_images(hsv_bbdd, (1024,1024))\n",
    "hsv_bbdd = sorted(hsv_bbdd.items())\n",
    "hsv_bbdd = dict(hsv_bbdd)"
   ],
   "metadata": {
    "collapsed": false
   }
  },
  {
   "cell_type": "code",
   "execution_count": 9,
   "outputs": [],
   "source": [
    "# Calculate HSV histogram\n",
    "bins = 48\n",
    "\n",
    "hist_queries = utils.calculate_histograms(hsv_queries, bins, None, bw=False)\n",
    "hist_bbdd = utils.calculate_histograms(hsv_bbdd, bins, None, bw=False)"
   ],
   "metadata": {
    "collapsed": false
   }
  },
  {
   "cell_type": "code",
   "execution_count": 10,
   "outputs": [],
   "source": [
    "# Calculate HSV histogram in number of blocks\n",
    "\n",
    "blocks = 32\n",
    "\n",
    "hist_blocks_bbdd = utils.calculate_histograms(hsv_bbdd, bins, None, with_blocks=True, blocks_number=blocks)"
   ],
   "metadata": {
    "collapsed": false
   }
  },
  {
   "cell_type": "code",
   "execution_count": 11,
   "outputs": [],
   "source": [
    "hist_blocks_queries_1 = utils.calculate_histograms(hsv_queries, bins, None, with_blocks=True, blocks_number=blocks)"
   ],
   "metadata": {
    "collapsed": false
   }
  },
  {
   "cell_type": "code",
   "execution_count": 12,
   "outputs": [],
   "source": [
    "hist_blocks_queries_2 = utils.calculate_histograms(hsv_queries_2, bins, None, with_blocks=True, blocks_number=blocks)"
   ],
   "metadata": {
    "collapsed": false
   }
  },
  {
   "cell_type": "markdown",
   "source": [],
   "metadata": {
    "collapsed": false
   }
  },
  {
   "cell_type": "code",
   "execution_count": 13,
   "outputs": [],
   "source": [
    "# Get the best k results for the intersection each query image without blocks and all BBDD for the first dataset\n",
    "\n",
    "result_queries = []\n",
    "\n",
    "for key_query in queries_1.keys():\n",
    "    hist_query = hist_queries[key_query]\n",
    "    result_queries.append(utils.intersection_per_query(hist_query, hist_bbdd, 10))"
   ],
   "metadata": {
    "collapsed": false
   }
  },
  {
   "cell_type": "markdown",
   "source": [],
   "metadata": {
    "collapsed": false
   }
  },
  {
   "cell_type": "code",
   "execution_count": 14,
   "outputs": [],
   "source": [
    "# Get the best k results for the intersection each query image with blocks and all BBDD for the first dataset\n",
    "\n",
    "result_queries_with_blocks = []\n",
    "\n",
    "for key_query in queries_1.keys():\n",
    "    hist_query = hist_blocks_queries_1[key_query]\n",
    "    result_queries_with_blocks.append(utils.intersection_per_query(hist_query, hist_blocks_bbdd, 10))"
   ],
   "metadata": {
    "collapsed": false
   }
  },
  {
   "cell_type": "code",
   "execution_count": 15,
   "outputs": [
    {
     "data": {
      "text/plain": "0.4666666666666667"
     },
     "execution_count": 15,
     "metadata": {},
     "output_type": "execute_result"
    }
   ],
   "source": [
    "# Result for DS 1 without blocks\n",
    "\n",
    "eval = ml_metrics.mapk(gt, result_queries, 1)\n",
    "eval"
   ],
   "metadata": {
    "collapsed": false
   }
  },
  {
   "cell_type": "code",
   "execution_count": 16,
   "outputs": [
    {
     "data": {
      "text/plain": "0.8333333333333334"
     },
     "execution_count": 16,
     "metadata": {},
     "output_type": "execute_result"
    }
   ],
   "source": [
    "# Result for DS 1 with blocks\n",
    "\n",
    "eval = ml_metrics.mapk(gt, result_queries_with_blocks, 1)\n",
    "eval"
   ],
   "metadata": {
    "collapsed": false
   }
  },
  {
   "cell_type": "code",
   "execution_count": 17,
   "outputs": [
    {
     "data": {
      "text/plain": "0.5233333333333333"
     },
     "execution_count": 17,
     "metadata": {},
     "output_type": "execute_result"
    }
   ],
   "source": [
    "# Result for DS 1 without blocks\n",
    "\n",
    "eval = ml_metrics.mapk(gt, result_queries, 5)\n",
    "eval"
   ],
   "metadata": {
    "collapsed": false
   }
  },
  {
   "cell_type": "code",
   "execution_count": 18,
   "outputs": [
    {
     "data": {
      "text/plain": "0.861111111111111"
     },
     "execution_count": 18,
     "metadata": {},
     "output_type": "execute_result"
    }
   ],
   "source": [
    "# Result for DS 1 with blocks\n",
    "\n",
    "eval = ml_metrics.mapk(gt, result_queries_with_blocks, 5)\n",
    "eval"
   ],
   "metadata": {
    "collapsed": false
   }
  },
  {
   "cell_type": "code",
   "execution_count": 19,
   "outputs": [],
   "source": [
    "# Get the best k results for the intersection each query image with blocks and all BBDD for the second dataset\n",
    "\n",
    "result_queries_with_blocks = []\n",
    "\n",
    "for key_query in queries_2.keys():\n",
    "    hist_query = hist_blocks_queries_2[key_query]\n",
    "    result_queries_with_blocks.append(utils.intersection_per_query(hist_query, hist_blocks_bbdd, 10))"
   ],
   "metadata": {
    "collapsed": false
   }
  },
  {
   "cell_type": "code",
   "execution_count": 20,
   "outputs": [
    {
     "data": {
      "text/plain": "0.3"
     },
     "execution_count": 20,
     "metadata": {},
     "output_type": "execute_result"
    }
   ],
   "source": [
    "# Result for DS 2 with blocks\n",
    "\n",
    "eval = ml_metrics.mapk(gt_2, result_queries_with_blocks, 1)\n",
    "eval"
   ],
   "metadata": {
    "collapsed": false
   }
  },
  {
   "cell_type": "code",
   "execution_count": 21,
   "outputs": [
    {
     "data": {
      "text/plain": "0.35944444444444446"
     },
     "execution_count": 21,
     "metadata": {},
     "output_type": "execute_result"
    }
   ],
   "source": [
    "# Result for DS 2 with blocks\n",
    "\n",
    "eval = ml_metrics.mapk(gt_2, result_queries_with_blocks, 5)\n",
    "eval"
   ],
   "metadata": {
    "collapsed": false
   }
  },
  {
   "cell_type": "markdown",
   "source": [
    "## Calculate based on CieLab - Method 1"
   ],
   "metadata": {
    "collapsed": false
   }
  },
  {
   "cell_type": "code",
   "execution_count": 22,
   "outputs": [],
   "source": [
    "# Convert images to CieLab\n",
    "lab_queries = utils.convert_color_space(queries_1, cv2.COLOR_BGR2Lab)\n",
    "lab_queries = sorted(lab_queries.items())\n",
    "lab_queries = dict(lab_queries)\n",
    "\n",
    "lab_bbdd = utils.convert_color_space(bbdd, cv2.COLOR_BGR2Lab)"
   ],
   "metadata": {
    "collapsed": false
   }
  },
  {
   "cell_type": "code",
   "execution_count": 23,
   "outputs": [],
   "source": [
    "# Calculate histograms\n",
    "bins = 48\n",
    "\n",
    "hist_queries_lab = utils.calculate_histograms(lab_queries,bins, query_path, False, True)\n",
    "hist_bbdd_lab = utils.calculate_histograms(lab_bbdd,bins, bbdd_path ,False,True)"
   ],
   "metadata": {
    "collapsed": false
   }
  },
  {
   "cell_type": "code",
   "execution_count": 24,
   "outputs": [],
   "source": [
    "# Get the best k results for the intersection all query images\n",
    "\n",
    "result_queries = []\n",
    "\n",
    "for key_query in queries_1.keys():\n",
    "    hist_query = hist_queries_lab[key_query]\n",
    "    result_queries.append(utils.intersection_per_query(hist_query, hist_bbdd_lab, 5))"
   ],
   "metadata": {
    "collapsed": false
   }
  },
  {
   "cell_type": "code",
   "execution_count": 25,
   "outputs": [
    {
     "data": {
      "text/plain": "0.5"
     },
     "execution_count": 25,
     "metadata": {},
     "output_type": "execute_result"
    }
   ],
   "source": [
    "res_1 = ml_metrics.mapk(gt, result_queries, 1)\n",
    "res_1"
   ],
   "metadata": {
    "collapsed": false
   }
  },
  {
   "cell_type": "code",
   "execution_count": 26,
   "outputs": [
    {
     "data": {
      "text/plain": "0.5888888888888888"
     },
     "execution_count": 26,
     "metadata": {},
     "output_type": "execute_result"
    }
   ],
   "source": [
    "res_5 = ml_metrics.mapk(gt, result_queries, 5)\n",
    "res_5"
   ],
   "metadata": {
    "collapsed": false
   }
  },
  {
   "cell_type": "markdown",
   "source": [
    "# Task 5: For each image in the QS2, remove background"
   ],
   "metadata": {
    "collapsed": false
   }
  },
  {
   "cell_type": "code",
   "execution_count": 47,
   "outputs": [],
   "source": [
    "# Calculate masks for the second dataset\n",
    "\n",
    "masks_query, masked_query = utils.find_mask(queries_2)"
   ],
   "metadata": {
    "collapsed": false
   }
  },
  {
   "cell_type": "code",
   "execution_count": 48,
   "outputs": [
    {
     "data": {
      "text/plain": "(0.8016236180482522, 0.9602464293550502, 0.8633473125933117)"
     },
     "execution_count": 48,
     "metadata": {},
     "output_type": "execute_result"
    }
   ],
   "source": [
    "# Precision, recall, F1 score\n",
    "\n",
    "query_path = 'qsd2_w1'\n",
    "gt_mask = utils.import_images_gt(query_path)\n",
    "\n",
    "res_mask = utils.eval(gt_mask, masks_query)\n",
    "res_mask"
   ],
   "metadata": {
    "collapsed": false
   }
  }
 ]
}
