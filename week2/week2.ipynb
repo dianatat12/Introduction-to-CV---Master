{
 "cells": [
  {
   "cell_type": "code",
   "execution_count": 1,
   "metadata": {
    "ExecuteTime": {
     "end_time": "2023-10-15T20:36:54.962064Z",
     "start_time": "2023-10-15T20:36:54.246832800Z"
    }
   },
   "outputs": [],
   "source": [
    "import cv2\n",
    "import utils\n",
    "import pickle\n",
    "import ml_metrics"
   ]
  },
  {
   "cell_type": "code",
   "execution_count": 2,
   "outputs": [],
   "source": [
    "query_path_qsd2_w1 = 'datasets/qsd2_w1'\n",
    "query_path_qsd1_w2 = 'datasets/qsd1_w2'\n",
    "query_path_qsd2_w2 = 'datasets/qsd2_w2'\n",
    "\n",
    "gt_path_qsd2_w1 = 'datasets/qsd2_w2/gt_corresps.pkl'\n",
    "\n",
    "bbdd_path = 'datasets/BBDD'"
   ],
   "metadata": {
    "collapsed": false,
    "ExecuteTime": {
     "end_time": "2023-10-15T20:36:54.977211300Z",
     "start_time": "2023-10-15T20:36:54.962064Z"
    }
   }
  },
  {
   "cell_type": "markdown",
   "source": [
    "# Task 1 - Calculate descriptors based on HSV"
   ],
   "metadata": {
    "collapsed": false
   }
  },
  {
   "cell_type": "code",
   "execution_count": 3,
   "outputs": [],
   "source": [
    "# Import and prepare query images\n",
    "queries_2_w1 = utils.import_images(query_path_qsd2_w1)\n",
    "queries_2_w1 = utils.convert_color_space(queries_2_w1, cv2.COLOR_BGR2HSV)\n",
    "queries_2_w1 = utils.resize_images(queries_2_w1, (1024, 1024))\n",
    "queries_2_w1 = sorted(queries_2_w1.items())\n",
    "queries_2_w1 = dict(queries_2_w1)"
   ],
   "metadata": {
    "collapsed": false,
    "ExecuteTime": {
     "end_time": "2023-10-15T20:36:55.936390Z",
     "start_time": "2023-10-15T20:36:54.977211300Z"
    }
   }
  },
  {
   "cell_type": "code",
   "execution_count": 5,
   "outputs": [],
   "source": [
    "bbdd = utils.import_images(bbdd_path)\n",
    "bbdd = utils.convert_color_space(bbdd, cv2.COLOR_BGR2HSV)\n",
    "bbdd = utils.resize_images(bbdd, (1024,1024))\n",
    "bbdd = sorted(bbdd.items())\n",
    "bbdd = dict(bbdd)"
   ],
   "metadata": {
    "collapsed": false,
    "ExecuteTime": {
     "end_time": "2023-10-15T20:37:36.772357800Z",
     "start_time": "2023-10-15T20:37:14.489895600Z"
    }
   }
  },
  {
   "cell_type": "code",
   "execution_count": 6,
   "outputs": [],
   "source": [
    "# Calculate CieLab histogram in number of blocks\n",
    "\n",
    "blocks = [32, 16, 8, 4]\n",
    "bins = 48"
   ],
   "metadata": {
    "collapsed": false,
    "ExecuteTime": {
     "end_time": "2023-10-15T20:37:36.792521600Z",
     "start_time": "2023-10-15T20:37:36.772357800Z"
    }
   }
  },
  {
   "cell_type": "code",
   "execution_count": 9,
   "outputs": [],
   "source": [
    "hist_blocks_queries_2 = utils.calculate_histogram_with_multiple_levels(queries_2_w1, blocks, bins)"
   ],
   "metadata": {
    "collapsed": false,
    "ExecuteTime": {
     "end_time": "2023-10-15T20:38:27.743808600Z",
     "start_time": "2023-10-15T20:38:26.366172800Z"
    }
   }
  },
  {
   "cell_type": "code",
   "execution_count": 10,
   "outputs": [],
   "source": [
    "hist_blocks_bbdd = utils.calculate_histogram_with_multiple_levels(bbdd, blocks, bins)"
   ],
   "metadata": {
    "collapsed": false,
    "ExecuteTime": {
     "end_time": "2023-10-15T20:38:38.400065900Z",
     "start_time": "2023-10-15T20:38:28.758801100Z"
    }
   }
  },
  {
   "cell_type": "code",
   "execution_count": 11,
   "outputs": [],
   "source": [
    "# Get the best k results for the intersection each query image with blocks and all BBDD for the first dataset\n",
    "\n",
    "result_queries_with_blocks = []\n",
    "\n",
    "for key_query in queries_2_w1.keys():\n",
    "    hist_query = hist_blocks_queries_2[key_query]\n",
    "    result_queries_with_blocks.append(utils.intersection_per_query(hist_query, hist_blocks_bbdd, 10))"
   ],
   "metadata": {
    "collapsed": false,
    "ExecuteTime": {
     "end_time": "2023-10-15T20:39:14.594408300Z",
     "start_time": "2023-10-15T20:38:38.400065900Z"
    }
   }
  },
  {
   "cell_type": "code",
   "execution_count": 12,
   "outputs": [],
   "source": [
    "gt_2_w1 = pickle.load(open('datasets/qsd2_w1/gt_corresps.pkl', 'rb', buffering=0), encoding='bytes')"
   ],
   "metadata": {
    "collapsed": false,
    "ExecuteTime": {
     "end_time": "2023-10-15T20:39:14.615272300Z",
     "start_time": "2023-10-15T20:39:14.599438200Z"
    }
   }
  },
  {
   "cell_type": "code",
   "execution_count": 13,
   "outputs": [
    {
     "data": {
      "text/plain": "0.4"
     },
     "execution_count": 13,
     "metadata": {},
     "output_type": "execute_result"
    }
   ],
   "source": [
    "# Result for DS 2 with blocks\n",
    "\n",
    "eval = ml_metrics.mapk(gt_2_w1, result_queries_with_blocks, 1)\n",
    "eval"
   ],
   "metadata": {
    "collapsed": false,
    "ExecuteTime": {
     "end_time": "2023-10-15T20:39:14.661996400Z",
     "start_time": "2023-10-15T20:39:14.615272300Z"
    }
   }
  },
  {
   "cell_type": "code",
   "execution_count": 14,
   "outputs": [
    {
     "data": {
      "text/plain": "0.43444444444444436"
     },
     "execution_count": 14,
     "metadata": {},
     "output_type": "execute_result"
    }
   ],
   "source": [
    "# Result for DS 2 with blocks\n",
    "\n",
    "eval = ml_metrics.mapk(gt_2_w1, result_queries_with_blocks, 5)\n",
    "eval"
   ],
   "metadata": {
    "collapsed": false,
    "ExecuteTime": {
     "end_time": "2023-10-15T20:39:14.661996400Z",
     "start_time": "2023-10-15T20:39:14.630707Z"
    }
   }
  },
  {
   "cell_type": "markdown",
   "source": [
    "# Task 3 - Detect and remove text from images in QSD1-W2"
   ],
   "metadata": {
    "collapsed": false
   }
  },
  {
   "cell_type": "code",
   "execution_count": 15,
   "outputs": [],
   "source": [
    "# Import queries from dataset 1\n",
    "\n",
    "queries_1_w2 = utils.import_images(query_path_qsd1_w2)\n",
    "queries_1_w2 = sorted(queries_1_w2.items())\n",
    "queries_1_w2 = dict(queries_1_w2)"
   ],
   "metadata": {
    "collapsed": false,
    "ExecuteTime": {
     "end_time": "2023-10-15T20:39:30.590842100Z",
     "start_time": "2023-10-15T20:39:29.441924300Z"
    }
   }
  },
  {
   "cell_type": "code",
   "execution_count": 16,
   "metadata": {
    "ExecuteTime": {
     "end_time": "2023-10-15T20:39:33.455934700Z",
     "start_time": "2023-10-15T20:39:30.621912200Z"
    }
   },
   "outputs": [],
   "source": [
    "# Import queries from dataset 2\n",
    "\n",
    "queries_2_w2 = utils.import_images(query_path_qsd2_w2)\n",
    "queries_2_w2 = sorted(queries_2_w2.items())\n",
    "queries_2_w2 = dict(queries_2_w2)"
   ]
  },
  {
   "cell_type": "code",
   "execution_count": 17,
   "metadata": {
    "ExecuteTime": {
     "end_time": "2023-10-15T20:39:54.380792700Z",
     "start_time": "2023-10-15T20:39:33.455934700Z"
    }
   },
   "outputs": [],
   "source": [
    "# Import BBDD\n",
    "\n",
    "bbdd = utils.import_images(bbdd_path)"
   ]
  },
  {
   "cell_type": "code",
   "execution_count": 18,
   "metadata": {
    "ExecuteTime": {
     "end_time": "2023-10-15T20:39:54.414950100Z",
     "start_time": "2023-10-15T20:39:54.380792700Z"
    }
   },
   "outputs": [],
   "source": [
    "# Import GT values for both datasets\n",
    "\n",
    "gt_1_w2 = pickle.load(open('datasets/qsd1_w2/gt_corresps.pkl', 'rb', buffering=0), encoding='bytes')\n",
    "gt_2_w2 = pickle.load(open('datasets/qsd2_w2/gt_corresps.pkl', 'rb', buffering=0), encoding='bytes')"
   ]
  },
  {
   "cell_type": "code",
   "execution_count": 19,
   "metadata": {
    "ExecuteTime": {
     "end_time": "2023-10-15T20:39:54.430423700Z",
     "start_time": "2023-10-15T20:39:54.414950100Z"
    }
   },
   "outputs": [],
   "source": [
    "with open('datasets/qsd1_w2/text_boxes.pkl', 'rb') as f:\n",
    "    text_boxes = pickle.load(f)\n",
    "boxes = []\n",
    "for t in text_boxes:\n",
    "\n",
    "    tlx = t[0][0][0]\n",
    "    tly = t[0][0][1]\n",
    "    brx = t[0][2][0]\n",
    "    bry = t[0][2][1]\n",
    "    new = [tlx,tly, brx,bry]\n",
    "    boxes.append(new)\n"
   ]
  },
  {
   "cell_type": "code",
   "execution_count": 20,
   "metadata": {
    "ExecuteTime": {
     "end_time": "2023-10-15T20:39:55.734203100Z",
     "start_time": "2023-10-15T20:39:54.430423700Z"
    }
   },
   "outputs": [],
   "source": [
    "bboxes = utils.find_text(queries_1_w2, boxes)"
   ]
  },
  {
   "cell_type": "markdown",
   "metadata": {},
   "source": [
    "# Task 4 - Evaluate the text bounding box"
   ]
  },
  {
   "cell_type": "code",
   "execution_count": 21,
   "metadata": {
    "ExecuteTime": {
     "end_time": "2023-10-15T20:39:55.749677200Z",
     "start_time": "2023-10-15T20:39:55.734203100Z"
    }
   },
   "outputs": [
    {
     "name": "stdout",
     "output_type": "stream",
     "text": [
      "0.5705726269563006\n"
     ]
    }
   ],
   "source": [
    "res = []\n",
    "for b, t, in zip(bboxes.values(), text_boxes):\n",
    "    tlx = t[0][0][0]\n",
    "    tly = t[0][0][1]\n",
    "    brx = t[0][2][0]\n",
    "    bry = t[0][2][1]\n",
    "    new = [tlx,tly, brx,bry]\n",
    "\n",
    "    a = float(utils.iou(b,new))\n",
    "    res.append(a)\n",
    "\n",
    "print(sum(res)/len(res))"
   ]
  },
  {
   "cell_type": "markdown",
   "metadata": {},
   "source": [
    "# code for the mask (function find mask)"
   ]
  },
  {
   "cell_type": "code",
   "execution_count": 22,
   "outputs": [
    {
     "data": {
      "text/plain": "{'00000': array([[0, 0, 0, ..., 0, 0, 0],\n        [0, 0, 0, ..., 0, 0, 0],\n        [0, 0, 0, ..., 0, 0, 0],\n        ...,\n        [0, 0, 0, ..., 0, 0, 0],\n        [0, 0, 0, ..., 0, 0, 0],\n        [0, 0, 0, ..., 0, 0, 0]], dtype=uint8),\n '00001': array([[0, 0, 0, ..., 0, 0, 0],\n        [0, 0, 0, ..., 0, 0, 0],\n        [0, 0, 0, ..., 0, 0, 0],\n        ...,\n        [0, 0, 0, ..., 0, 0, 0],\n        [0, 0, 0, ..., 0, 0, 0],\n        [0, 0, 0, ..., 0, 0, 0]], dtype=uint8),\n '00002': array([[0, 0, 0, ..., 0, 0, 0],\n        [0, 0, 0, ..., 0, 0, 0],\n        [0, 0, 0, ..., 0, 0, 0],\n        ...,\n        [0, 0, 0, ..., 0, 0, 0],\n        [0, 0, 0, ..., 0, 0, 0],\n        [0, 0, 0, ..., 0, 0, 0]], dtype=uint8),\n '00003': array([[0, 0, 0, ..., 0, 0, 0],\n        [0, 0, 0, ..., 0, 0, 0],\n        [0, 0, 0, ..., 0, 0, 0],\n        ...,\n        [0, 0, 0, ..., 0, 0, 0],\n        [0, 0, 0, ..., 0, 0, 0],\n        [0, 0, 0, ..., 0, 0, 0]], dtype=uint8),\n '00004': array([[0, 0, 0, ..., 0, 0, 0],\n        [0, 0, 0, ..., 0, 0, 0],\n        [0, 0, 0, ..., 0, 0, 0],\n        ...,\n        [0, 0, 0, ..., 0, 0, 0],\n        [0, 0, 0, ..., 0, 0, 0],\n        [0, 0, 0, ..., 0, 0, 0]], dtype=uint8),\n '00005': array([[  0,   0,   0, ...,   0,   0,   0],\n        [  0,   0,   0, ...,   0,   0,   0],\n        [  0,   0,   0, ...,   0,   0,   0],\n        ...,\n        [255, 255, 255, ..., 255, 255, 255],\n        [255, 255, 255, ..., 255, 255, 255],\n        [255, 255, 255, ..., 255, 255, 255]], dtype=uint8),\n '00006': array([[0, 0, 0, ..., 0, 0, 0],\n        [0, 0, 0, ..., 0, 0, 0],\n        [0, 0, 0, ..., 0, 0, 0],\n        ...,\n        [0, 0, 0, ..., 0, 0, 0],\n        [0, 0, 0, ..., 0, 0, 0],\n        [0, 0, 0, ..., 0, 0, 0]], dtype=uint8),\n '00007': array([[0, 0, 0, ..., 0, 0, 0],\n        [0, 0, 0, ..., 0, 0, 0],\n        [0, 0, 0, ..., 0, 0, 0],\n        ...,\n        [0, 0, 0, ..., 0, 0, 0],\n        [0, 0, 0, ..., 0, 0, 0],\n        [0, 0, 0, ..., 0, 0, 0]], dtype=uint8),\n '00008': array([[0, 0, 0, ..., 0, 0, 0],\n        [0, 0, 0, ..., 0, 0, 0],\n        [0, 0, 0, ..., 0, 0, 0],\n        ...,\n        [0, 0, 0, ..., 0, 0, 0],\n        [0, 0, 0, ..., 0, 0, 0],\n        [0, 0, 0, ..., 0, 0, 0]], dtype=uint8),\n '00009': array([[0, 0, 0, ..., 0, 0, 0],\n        [0, 0, 0, ..., 0, 0, 0],\n        [0, 0, 0, ..., 0, 0, 0],\n        ...,\n        [0, 0, 0, ..., 0, 0, 0],\n        [0, 0, 0, ..., 0, 0, 0],\n        [0, 0, 0, ..., 0, 0, 0]], dtype=uint8),\n '00010': array([[0, 0, 0, ..., 0, 0, 0],\n        [0, 0, 0, ..., 0, 0, 0],\n        [0, 0, 0, ..., 0, 0, 0],\n        ...,\n        [0, 0, 0, ..., 0, 0, 0],\n        [0, 0, 0, ..., 0, 0, 0],\n        [0, 0, 0, ..., 0, 0, 0]], dtype=uint8),\n '00011': array([[0, 0, 0, ..., 0, 0, 0],\n        [0, 0, 0, ..., 0, 0, 0],\n        [0, 0, 0, ..., 0, 0, 0],\n        ...,\n        [0, 0, 0, ..., 0, 0, 0],\n        [0, 0, 0, ..., 0, 0, 0],\n        [0, 0, 0, ..., 0, 0, 0]], dtype=uint8),\n '00012': array([[0, 0, 0, ..., 0, 0, 0],\n        [0, 0, 0, ..., 0, 0, 0],\n        [0, 0, 0, ..., 0, 0, 0],\n        ...,\n        [0, 0, 0, ..., 0, 0, 0],\n        [0, 0, 0, ..., 0, 0, 0],\n        [0, 0, 0, ..., 0, 0, 0]], dtype=uint8),\n '00013': array([[0, 0, 0, ..., 0, 0, 0],\n        [0, 0, 0, ..., 0, 0, 0],\n        [0, 0, 0, ..., 0, 0, 0],\n        ...,\n        [0, 0, 0, ..., 0, 0, 0],\n        [0, 0, 0, ..., 0, 0, 0],\n        [0, 0, 0, ..., 0, 0, 0]], dtype=uint8),\n '00014': array([[0, 0, 0, ..., 0, 0, 0],\n        [0, 0, 0, ..., 0, 0, 0],\n        [0, 0, 0, ..., 0, 0, 0],\n        ...,\n        [0, 0, 0, ..., 0, 0, 0],\n        [0, 0, 0, ..., 0, 0, 0],\n        [0, 0, 0, ..., 0, 0, 0]], dtype=uint8),\n '00015': array([[0, 0, 0, ..., 0, 0, 0],\n        [0, 0, 0, ..., 0, 0, 0],\n        [0, 0, 0, ..., 0, 0, 0],\n        ...,\n        [0, 0, 0, ..., 0, 0, 0],\n        [0, 0, 0, ..., 0, 0, 0],\n        [0, 0, 0, ..., 0, 0, 0]], dtype=uint8),\n '00016': array([[0, 0, 0, ..., 0, 0, 0],\n        [0, 0, 0, ..., 0, 0, 0],\n        [0, 0, 0, ..., 0, 0, 0],\n        ...,\n        [0, 0, 0, ..., 0, 0, 0],\n        [0, 0, 0, ..., 0, 0, 0],\n        [0, 0, 0, ..., 0, 0, 0]], dtype=uint8),\n '00017': array([[0, 0, 0, ..., 0, 0, 0],\n        [0, 0, 0, ..., 0, 0, 0],\n        [0, 0, 0, ..., 0, 0, 0],\n        ...,\n        [0, 0, 0, ..., 0, 0, 0],\n        [0, 0, 0, ..., 0, 0, 0],\n        [0, 0, 0, ..., 0, 0, 0]], dtype=uint8),\n '00018': array([[0, 0, 0, ..., 0, 0, 0],\n        [0, 0, 0, ..., 0, 0, 0],\n        [0, 0, 0, ..., 0, 0, 0],\n        ...,\n        [0, 0, 0, ..., 0, 0, 0],\n        [0, 0, 0, ..., 0, 0, 0],\n        [0, 0, 0, ..., 0, 0, 0]], dtype=uint8),\n '00019': array([[0, 0, 0, ..., 0, 0, 0],\n        [0, 0, 0, ..., 0, 0, 0],\n        [0, 0, 0, ..., 0, 0, 0],\n        ...,\n        [0, 0, 0, ..., 0, 0, 0],\n        [0, 0, 0, ..., 0, 0, 0],\n        [0, 0, 0, ..., 0, 0, 0]], dtype=uint8),\n '00020': array([[0, 0, 0, ..., 0, 0, 0],\n        [0, 0, 0, ..., 0, 0, 0],\n        [0, 0, 0, ..., 0, 0, 0],\n        ...,\n        [0, 0, 0, ..., 0, 0, 0],\n        [0, 0, 0, ..., 0, 0, 0],\n        [0, 0, 0, ..., 0, 0, 0]], dtype=uint8),\n '00021': array([[0, 0, 0, ..., 0, 0, 0],\n        [0, 0, 0, ..., 0, 0, 0],\n        [0, 0, 0, ..., 0, 0, 0],\n        ...,\n        [0, 0, 0, ..., 0, 0, 0],\n        [0, 0, 0, ..., 0, 0, 0],\n        [0, 0, 0, ..., 0, 0, 0]], dtype=uint8),\n '00022': array([[0, 0, 0, ..., 0, 0, 0],\n        [0, 0, 0, ..., 0, 0, 0],\n        [0, 0, 0, ..., 0, 0, 0],\n        ...,\n        [0, 0, 0, ..., 0, 0, 0],\n        [0, 0, 0, ..., 0, 0, 0],\n        [0, 0, 0, ..., 0, 0, 0]], dtype=uint8),\n '00023': array([[0, 0, 0, ..., 0, 0, 0],\n        [0, 0, 0, ..., 0, 0, 0],\n        [0, 0, 0, ..., 0, 0, 0],\n        ...,\n        [0, 0, 0, ..., 0, 0, 0],\n        [0, 0, 0, ..., 0, 0, 0],\n        [0, 0, 0, ..., 0, 0, 0]], dtype=uint8),\n '00024': array([[0, 0, 0, ..., 0, 0, 0],\n        [0, 0, 0, ..., 0, 0, 0],\n        [0, 0, 0, ..., 0, 0, 0],\n        ...,\n        [0, 0, 0, ..., 0, 0, 0],\n        [0, 0, 0, ..., 0, 0, 0],\n        [0, 0, 0, ..., 0, 0, 0]], dtype=uint8),\n '00025': array([[0, 0, 0, ..., 0, 0, 0],\n        [0, 0, 0, ..., 0, 0, 0],\n        [0, 0, 0, ..., 0, 0, 0],\n        ...,\n        [0, 0, 0, ..., 0, 0, 0],\n        [0, 0, 0, ..., 0, 0, 0],\n        [0, 0, 0, ..., 0, 0, 0]], dtype=uint8),\n '00026': array([[0, 0, 0, ..., 0, 0, 0],\n        [0, 0, 0, ..., 0, 0, 0],\n        [0, 0, 0, ..., 0, 0, 0],\n        ...,\n        [0, 0, 0, ..., 0, 0, 0],\n        [0, 0, 0, ..., 0, 0, 0],\n        [0, 0, 0, ..., 0, 0, 0]], dtype=uint8),\n '00027': array([[0, 0, 0, ..., 0, 0, 0],\n        [0, 0, 0, ..., 0, 0, 0],\n        [0, 0, 0, ..., 0, 0, 0],\n        ...,\n        [0, 0, 0, ..., 0, 0, 0],\n        [0, 0, 0, ..., 0, 0, 0],\n        [0, 0, 0, ..., 0, 0, 0]], dtype=uint8),\n '00028': array([[0, 0, 0, ..., 0, 0, 0],\n        [0, 0, 0, ..., 0, 0, 0],\n        [0, 0, 0, ..., 0, 0, 0],\n        ...,\n        [0, 0, 0, ..., 0, 0, 0],\n        [0, 0, 0, ..., 0, 0, 0],\n        [0, 0, 0, ..., 0, 0, 0]], dtype=uint8),\n '00029': array([[0, 0, 0, ..., 0, 0, 0],\n        [0, 0, 0, ..., 0, 0, 0],\n        [0, 0, 0, ..., 0, 0, 0],\n        ...,\n        [0, 0, 0, ..., 0, 0, 0],\n        [0, 0, 0, ..., 0, 0, 0],\n        [0, 0, 0, ..., 0, 0, 0]], dtype=uint8)}"
     },
     "execution_count": 22,
     "metadata": {},
     "output_type": "execute_result"
    }
   ],
   "source": [
    "masks, images_masked = utils.find_mask_w2(queries_2_w2)\n",
    "masks"
   ],
   "metadata": {
    "collapsed": false,
    "ExecuteTime": {
     "end_time": "2023-10-15T20:40:21.080009800Z",
     "start_time": "2023-10-15T20:40:18.554560900Z"
    }
   }
  },
  {
   "cell_type": "markdown",
   "source": [
    "# Task 5"
   ],
   "metadata": {
    "collapsed": false
   }
  },
  {
   "cell_type": "code",
   "execution_count": 23,
   "outputs": [],
   "source": [
    "blocks = [32, 16, 8, 4]\n",
    "bins = 48\n",
    "\n",
    "queries_1_w2 = utils.import_images(query_path_qsd1_w2)\n",
    "queries_1_w2 = utils.convert_color_space(queries_1_w2, cv2.COLOR_BGR2HSV)\n",
    "queries_1_w2 = utils.resize_images(queries_1_w2, (1024, 1024))\n",
    "queries_1_w2 = sorted(queries_1_w2.items())\n",
    "queries_1_w2 = dict(queries_1_w2)\n",
    "\n",
    "hist_blocks_queries_1_w2 = utils.calculate_histogram_with_multiple_levels(queries_1_w2, blocks, bins, with_bboxes=True, bboxes=bboxes)"
   ],
   "metadata": {
    "collapsed": false,
    "ExecuteTime": {
     "end_time": "2023-10-15T20:40:30.803132900Z",
     "start_time": "2023-10-15T20:40:21.275277Z"
    }
   }
  },
  {
   "cell_type": "code",
   "execution_count": 24,
   "outputs": [],
   "source": [
    "result_queries_1_w2 = []\n",
    "\n",
    "for key_query in queries_1_w2.keys():\n",
    "    hist_query = hist_blocks_queries_1_w2[key_query]\n",
    "    result_queries_1_w2.append(utils.intersection_per_query(hist_query, hist_blocks_bbdd, 10))"
   ],
   "metadata": {
    "collapsed": false,
    "ExecuteTime": {
     "end_time": "2023-10-15T20:41:09.414079200Z",
     "start_time": "2023-10-15T20:40:30.811203Z"
    }
   }
  },
  {
   "cell_type": "code",
   "execution_count": 25,
   "outputs": [
    {
     "data": {
      "text/plain": "0.5"
     },
     "execution_count": 25,
     "metadata": {},
     "output_type": "execute_result"
    }
   ],
   "source": [
    "eval = ml_metrics.mapk(gt_1_w2, result_queries_1_w2, 1)\n",
    "eval"
   ],
   "metadata": {
    "collapsed": false,
    "ExecuteTime": {
     "end_time": "2023-10-15T20:41:09.434345700Z",
     "start_time": "2023-10-15T20:41:09.414079200Z"
    }
   }
  },
  {
   "cell_type": "code",
   "execution_count": 26,
   "outputs": [
    {
     "data": {
      "text/plain": "0.5444444444444445"
     },
     "execution_count": 26,
     "metadata": {},
     "output_type": "execute_result"
    }
   ],
   "source": [
    "eval = ml_metrics.mapk(gt_1_w2, result_queries_1_w2, 5)\n",
    "eval"
   ],
   "metadata": {
    "collapsed": false,
    "ExecuteTime": {
     "end_time": "2023-10-15T20:41:09.483903900Z",
     "start_time": "2023-10-15T20:41:09.434345700Z"
    }
   }
  },
  {
   "cell_type": "markdown",
   "source": [
    "# Task 6"
   ],
   "metadata": {
    "collapsed": false
   }
  },
  {
   "cell_type": "code",
   "execution_count": 27,
   "outputs": [],
   "source": [
    "queries_2_w2 = utils.import_images(query_path_qsd2_w2)\n",
    "queries_2_w2 = sorted(queries_2_w2.items())\n",
    "queries_2_w2 = dict(queries_2_w2)"
   ],
   "metadata": {
    "collapsed": false,
    "ExecuteTime": {
     "end_time": "2023-10-15T20:41:11.515526200Z",
     "start_time": "2023-10-15T20:41:09.452446600Z"
    }
   }
  },
  {
   "cell_type": "code",
   "execution_count": 28,
   "outputs": [],
   "source": [
    "blocks = [32, 16, 8, 4]\n",
    "bins = 48"
   ],
   "metadata": {
    "collapsed": false,
    "ExecuteTime": {
     "end_time": "2023-10-15T20:41:11.531130400Z",
     "start_time": "2023-10-15T20:41:11.515526200Z"
    }
   }
  },
  {
   "cell_type": "code",
   "execution_count": 29,
   "outputs": [],
   "source": [
    "bbdd = utils.import_images(bbdd_path)\n",
    "bbdd = sorted(bbdd.items())\n",
    "bbdd = dict(bbdd)"
   ],
   "metadata": {
    "collapsed": false,
    "ExecuteTime": {
     "end_time": "2023-10-15T20:41:32.602253Z",
     "start_time": "2023-10-15T20:41:11.531130400Z"
    }
   }
  },
  {
   "cell_type": "code",
   "execution_count": 30,
   "outputs": [],
   "source": [
    "hist_blocks_bbdd = utils.calculate_all_blocks(blocks, data = bbdd, bins=bins)"
   ],
   "metadata": {
    "collapsed": false,
    "ExecuteTime": {
     "end_time": "2023-10-15T20:41:41.012643900Z",
     "start_time": "2023-10-15T20:41:32.602253Z"
    }
   }
  },
  {
   "cell_type": "code",
   "execution_count": null,
   "outputs": [],
   "source": [
    "final_histograms = {}\n",
    "for key, value in masks.items():\n",
    "    hist_per_image = []\n",
    "    zeros = len(value==0) # get the amount of pixels that constitute non-painting from the mask\n",
    "\n",
    "    # Apply mask to image to remove background\n",
    "    result = cv2.bitwise_and(queries_2_w2[key], queries_2_w2[key], mask=value)\n",
    "    result_gray = cv2.cvtColor(result, cv2.COLOR_BGRA2GRAY)\n",
    "    contours, _ = cv2.findContours(result_gray, cv2.RETR_EXTERNAL, cv2.CHAIN_APPROX_SIMPLE)\n",
    "\n",
    "    if len(contours) >= 1:\n",
    "        x,y,w,h = cv2.boundingRect(contours[0])\n",
    "        ROI = result[y:y+h, x:x+w]\n",
    "\n",
    "        # Find box\n",
    "        bbox = utils.find_text({key: ROI}, boxes)\n",
    "\n",
    "        ROI = cv2.cvtColor(ROI, cv2.COLOR_BGR2HSV)\n",
    "        hist_per_image.append(utils.calculate_all_blocks(blocks, data={key: ROI}, bins=bins, with_bboxes=True, bboxes={key: bbox[key]})[key])\n",
    "\n",
    "        if len(contours) == 2:\n",
    "            x,y,w,h = cv2.boundingRect(contours[1])\n",
    "            ROI = result[y:y+h, x:x+w]\n",
    "\n",
    "            # Find box\n",
    "            bbox = utils.find_text({key: ROI}, boxes)\n",
    "\n",
    "            ROI = cv2.cvtColor(ROI, cv2.COLOR_BGR2HSV)\n",
    "            hist_per_image.append(utils.calculate_all_blocks(blocks, data={key: ROI}, bins=bins, with_bboxes=True, bboxes={key: bbox[key]})[key])\n",
    "\n",
    "    final_histograms[key] = hist_per_image"
   ],
   "metadata": {
    "collapsed": false,
    "ExecuteTime": {
     "start_time": "2023-10-15T20:37:08.817202700Z"
    }
   }
  },
  {
   "cell_type": "code",
   "execution_count": null,
   "outputs": [],
   "source": [
    "import numpy as np\n",
    "\n",
    "def intersection_per_query(hist_query, hist_bbdd: dict, k):\n",
    "    result_query = {}\n",
    "\n",
    "    if(np.shape(hist_query)[0] == 2):\n",
    "        for key, value in hist_bbdd.items():\n",
    "            result_query[key] = [utils.histogram_intersection(hist_query[0], value)]\n",
    "            result_query[key].append([utils.histogram_intersection(hist_query[1], value)])\n",
    "\n",
    "    best_k = dict(sorted(result_query.items(), key=lambda item: item[1], reverse=True)[:k])\n",
    "    return [utils.extract_number_from_string(key) for key in best_k.keys()]"
   ],
   "metadata": {
    "collapsed": false,
    "ExecuteTime": {
     "start_time": "2023-10-15T20:37:08.817202700Z"
    }
   }
  },
  {
   "cell_type": "code",
   "execution_count": null,
   "outputs": [],
   "source": [
    "result_queries_2_w2 = []\n",
    "\n",
    "for key_query in queries_2_w2.keys():\n",
    "    hist_query = final_histograms[key_query]\n",
    "\n",
    "    result_queries_2_w2.append(intersection_per_query(hist_query, hist_blocks_bbdd, 10))"
   ],
   "metadata": {
    "collapsed": false,
    "ExecuteTime": {
     "start_time": "2023-10-15T20:37:08.817202700Z"
    }
   }
  }
 ],
 "metadata": {
  "colab": {
   "provenance": []
  },
  "kernelspec": {
   "display_name": "Python 3",
   "language": "python",
   "name": "python3"
  },
  "language_info": {
   "codemirror_mode": {
    "name": "ipython",
    "version": 3
   },
   "file_extension": ".py",
   "mimetype": "text/x-python",
   "name": "python",
   "nbconvert_exporter": "python",
   "pygments_lexer": "ipython3",
   "version": "3.7.3"
  }
 },
 "nbformat": 4,
 "nbformat_minor": 1
}
